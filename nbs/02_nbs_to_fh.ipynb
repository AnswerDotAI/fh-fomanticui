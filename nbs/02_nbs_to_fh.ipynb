{
 "cells": [
  {
   "cell_type": "markdown",
   "metadata": {},
   "source": [
    "# Converting a Notebook to a FastHTML view"
   ]
  },
  {
   "cell_type": "code",
   "execution_count": null,
   "metadata": {},
   "outputs": [],
   "source": [
    "import nbformat\n",
    "from fasthtml.common import *"
   ]
  },
  {
   "cell_type": "code",
   "execution_count": null,
   "metadata": {},
   "outputs": [
    {
     "data": {
      "text/plain": [
       "2"
      ]
     },
     "execution_count": null,
     "metadata": {},
     "output_type": "execute_result"
    }
   ],
   "source": [
    "with open(\"elements/00_button.ipynb\") as f:\n",
    "    nb = nbformat.read(f, as_version=4)\n",
    "\n",
    "fts_to_document = []\n",
    "\n",
    "for cell in nb.cells:\n",
    "    cell_lines = cell.source.split(\"\\n\")\n",
    "    if cell.cell_type == \"code\" and cell_lines[0] == \"# | export\":\n",
    "        # HACK: Find all FastTags in the notebook\n",
    "        if cell_lines[2].endswith(\"-> FT:\") or cell_lines[2].endswith(\"->FT\"):\n",
    "            # Append this cell to the list of FastTags to document, but without the export line\n",
    "            fts_to_document.append(\"\\n\".join(cell_lines[1:]))\n",
    "    \n",
    "len(fts_to_document)"
   ]
  },
  {
   "cell_type": "markdown",
   "metadata": {},
   "source": [
    "For each FastTag\n",
    "1) print the code cell in a Pre(Code()) element\n",
    "2) find the next code cell that starts with `show(` and put that in the view\n",
    "\n",
    "A FastHTML view corresponding to a Button component notebook may be something like:\n",
    "\n",
    "```python\n",
    "@rt(\"/button\")\n",
    "def get():\n",
    "    return render_nb(\"00_button.ipynb\")\n",
    "```\n",
    "\n",
    "We can get fancy later...for now put them in divs with a border:"
   ]
  },
  {
   "cell_type": "code",
   "execution_count": null,
   "metadata": {},
   "outputs": [
    {
     "data": {
      "text/plain": [
       "[['div',\n",
       "  ('@delegates(Button, keep=True)\\ndef FButton(*c, cls=\"ui button\", **kwargs) -> FT:\\n    \"A standard Fomantic UI Button, extending the existing Button FastTag.\"\\n    return Button(*c, cls=cls, **kwargs)',),\n",
       "  {'class': 'ui segment'}],\n",
       " ['div',\n",
       "  ('@delegates(Button, keep=True)\\ndef FAnimatedButton(visible, hidden, tabindex=0, cls=\"ui animated button\", **kwargs) -> FT:\\n    \"Animates to show hidden content\"\\n    return Button(Div(visible, cls=\"visible content\"), Div(hidden, cls=\"hidden content\"), cls=cls, **kwargs)',),\n",
       "  {'class': 'ui segment'}]]"
      ]
     },
     "execution_count": null,
     "metadata": {},
     "output_type": "execute_result"
    }
   ],
   "source": [
    "fui_button_docs = [Div(fui_ft, cls=\"ui segment\") for fui_ft in fts_to_document]\n",
    "fui_button_docs"
   ]
  },
  {
   "cell_type": "code",
   "execution_count": null,
   "metadata": {},
   "outputs": [],
   "source": []
  },
  {
   "cell_type": "code",
   "execution_count": null,
   "metadata": {},
   "outputs": [],
   "source": []
  }
 ],
 "metadata": {
  "kernelspec": {
   "display_name": "python3",
   "language": "python",
   "name": "python3"
  }
 },
 "nbformat": 4,
 "nbformat_minor": 2
}
