{
 "cells": [
  {
   "cell_type": "markdown",
   "metadata": {},
   "source": [
    "# Getting Notebook Cell Contents"
   ]
  },
  {
   "cell_type": "markdown",
   "metadata": {},
   "source": [
    "Trying to get contents of nbdev Jupyter notebook cells programatically, to display in a FastHTML app documenting them."
   ]
  },
  {
   "cell_type": "code",
   "execution_count": 3,
   "metadata": {},
   "outputs": [
    {
     "name": "stdout",
     "output_type": "stream",
     "text": [
      "# | export\n",
      "@delegates(Button, keep=True)\n",
      "def FButton(*c, cls=\"ui button\", **kwargs) -> FT:\n",
      "    \"A standard Fomantic UI Button, extending the existing Button FastTag.\"\n",
      "    return Button(*c, cls=cls, **kwargs)\n"
     ]
    }
   ],
   "source": [
    "# Get cell 6 from nbs/elements/00_button.ipynb using nbformat\n",
    "\n",
    "import nbformat\n",
    "\n",
    "with open(\"elements/00_button.ipynb\") as f:\n",
    "    nb = nbformat.read(f, as_version=4)\n",
    "\n",
    "cell = nb.cells[5]\n",
    "print(cell.source)"
   ]
  },
  {
   "cell_type": "code",
   "execution_count": 4,
   "metadata": {},
   "outputs": [
    {
     "name": "stdout",
     "output_type": "stream",
     "text": [
      "@delegates(Button, keep=True)\n",
      "def FButton(*c, cls=\"ui button\", **kwargs) -> FT:\n",
      "    \"A standard Fomantic UI Button, extending the existing Button FastTag.\"\n",
      "    return Button(*c, cls=cls, **kwargs)\n"
     ]
    }
   ],
   "source": [
    "# Remove the first line of cell.source\n",
    "cell.source = \"\\n\".join(cell.source.split(\"\\n\")[1:])\n",
    "print(cell.source)"
   ]
  }
 ],
 "metadata": {
  "kernelspec": {
   "display_name": ".venv",
   "language": "python",
   "name": "python3"
  },
  "language_info": {
   "codemirror_mode": {
    "name": "ipython",
    "version": 3
   },
   "file_extension": ".py",
   "mimetype": "text/x-python",
   "name": "python",
   "nbconvert_exporter": "python",
   "pygments_lexer": "ipython3",
   "version": "3.12.4"
  }
 },
 "nbformat": 4,
 "nbformat_minor": 2
}
