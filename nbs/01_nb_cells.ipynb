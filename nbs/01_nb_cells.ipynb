{
 "cells": [
  {
   "cell_type": "markdown",
   "metadata": {},
   "source": [
    "# Getting Notebook Cell Contents"
   ]
  },
  {
   "cell_type": "markdown",
   "metadata": {},
   "source": [
    "Trying to get contents of nbdev Jupyter notebook cells programatically, to display in a FastHTML app documenting them."
   ]
  },
  {
   "cell_type": "code",
   "execution_count": 3,
   "metadata": {},
   "outputs": [
    {
     "name": "stdout",
     "output_type": "stream",
     "text": [
      "# | export\n",
      "@delegates(Button, keep=True)\n",
      "def FButton(*c, cls=\"ui button\", **kwargs) -> FT:\n",
      "    \"A standard Fomantic UI Button, extending the existing Button FastTag.\"\n",
      "    return Button(*c, cls=cls, **kwargs)\n"
     ]
    }
   ],
   "source": [
    "# Get cell 6 from nbs/elements/00_button.ipynb using nbformat\n",
    "\n",
    "import nbformat\n",
    "\n",
    "with open(\"elements/00_button.ipynb\") as f:\n",
    "    nb = nbformat.read(f, as_version=4)\n",
    "\n",
    "cell = nb.cells[5]\n",
    "print(cell.source)"
   ]
  },
  {
   "cell_type": "code",
   "execution_count": null,
   "metadata": {},
   "outputs": [
    {
     "name": "stdout",
     "output_type": "stream",
     "text": [
      "@delegates(Button, keep=True)\n",
      "def FButton(*c, cls=\"ui button\", **kwargs) -> FT:\n",
      "    \"A standard Fomantic UI Button, extending the existing Button FastTag.\"\n",
      "    return Button(*c, cls=cls, **kwargs)\n"
     ]
    }
   ],
   "source": [
    "# Remove the first line of cell.source\n",
    "cell.source = \"\\n\".join(cell.source.split(\"\\n\")[1:])\n",
    "print(cell.source)"
   ]
  },
  {
   "cell_type": "code",
   "execution_count": null,
   "metadata": {},
   "outputs": [
    {
     "name": "stdout",
     "output_type": "stream",
     "text": [
      "#| default_exp button\n",
      "2\n",
      "\n",
      "\n",
      "# | export\n",
      "from dataclasses import dataclass, asdict\n",
      "from fastcore.utils import *\n",
      "from fastcore.xml import *\n",
      "from fastcore.xtras import *\n",
      "from fastcore.meta import use_kwargs, delegates\n",
      "from fasthtml.components import *\n",
      "3\n",
      "\n",
      "\n",
      "@delegates(Button, keep=True)\n",
      "def FButton(*c, cls=\"ui button\", **kwargs) -> FT:\n",
      "    \"A standard Fomantic UI Button, extending the existing Button FastTag.\"\n",
      "    return Button(*c, cls=cls, **kwargs)\n",
      "5\n",
      "\n",
      "\n",
      "FButton(\"Follow\")\n",
      "6\n",
      "\n",
      "\n",
      "show(FButton(\"Follow\"))\n",
      "7\n",
      "\n",
      "\n",
      "FButton(\"Save\", cls=\"ui primary button\"), FButton(\"Discard\")\n",
      "9\n",
      "\n",
      "\n",
      "show(FButton(\"Save\", cls=\"ui primary button\"), FButton(\"Discard\"))\n",
      "10\n",
      "\n",
      "\n",
      "show(FButton(\"OK\", cls=\"ui secondary button\"), FButton(\"Cancel\"))\n",
      "11\n",
      "\n",
      "\n",
      "# | export\n",
      "@delegates(Button, keep=True)\n",
      "def FAnimatedButton(visible, hidden, tabindex=0, cls=\"ui animated button\", **kwargs) -> FT:\n",
      "    \"Animates to show hidden content\"\n",
      "    return Button(Div(visible, cls=\"visible content\"), Div(hidden, cls=\"hidden content\"), cls=cls, **kwargs)\n",
      "13\n",
      "\n",
      "\n",
      "FAnimatedButton(\"Next\", \"Last\")\n",
      "14\n",
      "\n",
      "\n",
      "show(FAnimatedButton(\"Next\", \"Last\"))\n",
      "15\n",
      "\n",
      "\n",
      "FAnimatedButton(\"Next\", I(cls=\"right arrow icon\"))\n",
      "16\n",
      "\n",
      "\n",
      "show(FAnimatedButton(\"Next\", I(cls=\"right arrow icon\")))\n",
      "17\n",
      "\n",
      "\n"
     ]
    }
   ],
   "source": [
    "# Loop through all cells in 'elements/00_button.ipynb'. If the cell is a code cell, print the source code.\n",
    "for cell in nb.cells:\n",
    "    if cell.cell_type == \"code\":\n",
    "        print(cell.source)\n",
    "        # Print index of cell\n",
    "        print(nb.cells.index(cell))\n",
    "        print(\"\\n\")"
   ]
  },
  {
   "cell_type": "code",
   "execution_count": null,
   "metadata": {},
   "outputs": [
    {
     "name": "stdout",
     "output_type": "stream",
     "text": [
      "# | export\n",
      "from dataclasses import dataclass, asdict\n",
      "from fastcore.utils import *\n",
      "from fastcore.xml import *\n",
      "from fastcore.xtras import *\n",
      "from fastcore.meta import use_kwargs, delegates\n",
      "from fasthtml.components import *\n",
      "3\n",
      "\n",
      "\n",
      "# | export\n",
      "@delegates(Button, keep=True)\n",
      "def FButton(*c, cls=\"ui button\", **kwargs) -> FT:\n",
      "    \"A standard Fomantic UI Button, extending the existing Button FastTag.\"\n",
      "    return Button(*c, cls=cls, **kwargs)\n",
      "5\n",
      "FastTag definition\n",
      "\n",
      "\n",
      "# | export\n",
      "@delegates(Button, keep=True)\n",
      "def FAnimatedButton(visible, hidden, tabindex=0, cls=\"ui animated button\", **kwargs) -> FT:\n",
      "    \"Animates to show hidden content\"\n",
      "    return Button(Div(visible, cls=\"visible content\"), Div(hidden, cls=\"hidden content\"), cls=cls, **kwargs)\n",
      "13\n",
      "FastTag definition\n",
      "\n",
      "\n"
     ]
    }
   ],
   "source": [
    "# HACK: if line 1 has an export directive and line 2 of cell.source starts with @delegates, then it's a FastTag definition\n",
    "# Bad thing to do, but it \"works\" for now\n",
    "with open(\"elements/00_button.ipynb\") as f:\n",
    "    nb = nbformat.read(f, as_version=4)\n",
    "\n",
    "for cell in nb.cells:\n",
    "    if cell.cell_type == \"code\" and cell.source.split(\"\\n\")[0] == \"# | export\":\n",
    "        print(cell.source)\n",
    "        print(nb.cells.index(cell))\n",
    "        if cell.source.split(\"\\n\")[1].startswith(\"@delegates\"):\n",
    "            print(\"FastTag definition\")\n",
    "        print(\"\\n\")"
   ]
  },
  {
   "cell_type": "code",
   "execution_count": 6,
   "metadata": {},
   "outputs": [
    {
     "name": "stdout",
     "output_type": "stream",
     "text": [
      "# | export\n",
      "from dataclasses import dataclass, asdict\n",
      "from fastcore.utils import *\n",
      "from fastcore.xml import *\n",
      "from fastcore.xtras import *\n",
      "from fastcore.meta import use_kwargs, delegates\n",
      "from fasthtml.components import *\n",
      "3\n",
      "\n",
      "\n",
      "# | export\n",
      "@delegates(Button, keep=True)\n",
      "def FButton(*c, cls=\"ui button\", **kwargs) -> FT:\n",
      "    \"A standard Fomantic UI Button, extending the existing Button FastTag.\"\n",
      "    return Button(*c, cls=cls, **kwargs)\n",
      "5\n",
      "FastTag definition\n",
      "\n",
      "\n",
      "# | export\n",
      "@delegates(Button, keep=True)\n",
      "def FAnimatedButton(visible, hidden, tabindex=0, cls=\"ui animated button\", **kwargs) -> FT:\n",
      "    \"Animates to show hidden content\"\n",
      "    return Button(Div(visible, cls=\"visible content\"), Div(hidden, cls=\"hidden content\"), cls=cls, **kwargs)\n",
      "13\n",
      "FastTag definition\n",
      "\n",
      "\n"
     ]
    }
   ],
   "source": [
    "with open(\"elements/00_button.ipynb\") as f:\n",
    "    nb = nbformat.read(f, as_version=4)\n",
    "    \n",
    "fts_to_document = []\n",
    "\n",
    "for cell in nb.cells:\n",
    "    cell_lines = cell.source.split(\"\\n\")\n",
    "    if cell.cell_type == \"code\" and cell_lines[0] == \"# | export\":\n",
    "        print(cell.source)\n",
    "        print(nb.cells.index(cell))\n",
    "        \n",
    "        # HACK: Find all FastTags in the notebook\n",
    "        if cell_lines[2].strip().endswith(\"-> FT:\") or cell_lines[2].strip().endswith(\"->FT\"):\n",
    "            print(\"FastTag definition\")\n",
    "            \n",
    "            # Append this cell to the list of FastTags to document, but without the export line\n",
    "            fts_to_document.append(\"\\n\".join(cell_lines[1:]))\n",
    "        print(\"\\n\")"
   ]
  },
  {
   "cell_type": "code",
   "execution_count": null,
   "metadata": {},
   "outputs": [],
   "source": []
  }
 ],
 "metadata": {
  "kernelspec": {
   "display_name": "python3",
   "language": "python",
   "name": "python3"
  },
  "language_info": {
   "codemirror_mode": {
    "name": "ipython",
    "version": 3
   },
   "file_extension": ".py",
   "mimetype": "text/x-python",
   "name": "python",
   "nbconvert_exporter": "python",
   "pygments_lexer": "ipython3",
   "version": "3.12.4"
  }
 },
 "nbformat": 4,
 "nbformat_minor": 2
}
