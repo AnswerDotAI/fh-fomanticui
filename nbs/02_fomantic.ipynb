{
 "cells": [
  {
   "cell_type": "markdown",
   "metadata": {},
   "source": [
    "# Fomantic UI Components"
   ]
  },
  {
   "cell_type": "code",
   "execution_count": 1,
   "metadata": {},
   "outputs": [],
   "source": [
    "#| default_exp fomantic"
   ]
  },
  {
   "cell_type": "code",
   "execution_count": 2,
   "metadata": {},
   "outputs": [],
   "source": [
    "# | export\n",
    "from dataclasses import dataclass, asdict\n",
    "from fastcore.utils import *\n",
    "from fastcore.xml import *\n",
    "from fastcore.meta import use_kwargs, delegates\n",
    "from fasthtml.components import *"
   ]
  },
  {
   "cell_type": "code",
   "execution_count": 3,
   "metadata": {},
   "outputs": [],
   "source": [
    "# | export\n",
    "fomanticcss = \"https://cdn.jsdelivr.net/npm/fomantic-ui@2.9.3/dist/semantic.min.css\"\n",
    "fomanticlink = (Link(rel=\"stylesheet\", href=fomanticcss),)"
   ]
  },
  {
   "cell_type": "code",
   "execution_count": 4,
   "metadata": {},
   "outputs": [],
   "source": [
    "# | export\n",
    "@delegates(Button, keep=True)\n",
    "def FButton(*c, cls=\"ui button\", **kwargs) -> XT:\n",
    "    \"A Fomantic UI Button, extending the existing Button component\"\n",
    "    return Button(*c, cls=cls, **kwargs)"
   ]
  },
  {
   "cell_type": "code",
   "execution_count": 10,
   "metadata": {},
   "outputs": [
    {
     "data": {
      "text/markdown": [
       "```xml\n",
       "<button class=\"ui button\">Click me</button>\n",
       "\n",
       "```"
      ],
      "text/plain": [
       "['button', ('Click me',), {'class': 'ui button'}]"
      ]
     },
     "execution_count": 10,
     "metadata": {},
     "output_type": "execute_result"
    }
   ],
   "source": [
    "FButton(\"Click me\")"
   ]
  },
  {
   "cell_type": "code",
   "execution_count": 6,
   "metadata": {},
   "outputs": [],
   "source": [
    "# | export\n",
    "@delegates(Div, keep=True)\n",
    "def FContainer(*c, cls=\"ui container\", **kwargs) -> XT:\n",
    "    \"A Fomantic UI Container\"\n",
    "    return Div(*c, cls=cls, **kwargs)"
   ]
  },
  {
   "cell_type": "code",
   "execution_count": 11,
   "metadata": {},
   "outputs": [
    {
     "data": {
      "text/markdown": [
       "```xml\n",
       "<div class=\"ui container\">Hello World</div>\n",
       "\n",
       "```"
      ],
      "text/plain": [
       "['div', ('Hello World',), {'class': 'ui container'}]"
      ]
     },
     "execution_count": 11,
     "metadata": {},
     "output_type": "execute_result"
    }
   ],
   "source": [
    "FContainer(\"Hello World\")"
   ]
  },
  {
   "cell_type": "code",
   "execution_count": 7,
   "metadata": {},
   "outputs": [],
   "source": [
    "# | export\n",
    "@delegates(Div, keep=True)\n",
    "def FGrid(*c, cls=\"ui grid\", **kwargs) -> XT:\n",
    "    \"A Fomantic UI Grid\"\n",
    "    return Div(*c, cls=cls, **kwargs)"
   ]
  },
  {
   "cell_type": "code",
   "execution_count": 12,
   "metadata": {},
   "outputs": [
    {
     "data": {
      "text/markdown": [
       "```xml\n",
       "<div class=\"ui grid\">Hello World</div>\n",
       "\n",
       "```"
      ],
      "text/plain": [
       "['div', ('Hello World',), {'class': 'ui grid'}]"
      ]
     },
     "execution_count": 12,
     "metadata": {},
     "output_type": "execute_result"
    }
   ],
   "source": [
    "FGrid(\"Hello World\")"
   ]
  },
  {
   "cell_type": "code",
   "execution_count": 20,
   "metadata": {},
   "outputs": [],
   "source": [
    "def num2word(n):\n",
    "    words = [\"one\", \"two\", \"three\", \"four\", \"five\", \"six\", \"seven\", \"eight\", \"nine\", \"ten\", \"eleven\", \"twelve\"]\n",
    "    return words[n-1]"
   ]
  },
  {
   "cell_type": "code",
   "execution_count": 25,
   "metadata": {},
   "outputs": [],
   "source": [
    "# | export\n",
    "@delegates(Div, keep=True)\n",
    "def FColumn(*c, cls=\"column\", **kwargs) -> XT:\n",
    "    \"A Fomantic UI Grid Column\"\n",
    "    if \"width\" in kwargs:\n",
    "        # Convert number to word\n",
    "        kwargs[\"width\"] = num2word(kwargs[\"width\"])\n",
    "        cls = f\"{kwargs.pop('width')} wide column\"\n",
    "    return Div(*c, cls=cls, **kwargs)"
   ]
  },
  {
   "cell_type": "code",
   "execution_count": 26,
   "metadata": {},
   "outputs": [
    {
     "data": {
      "text/markdown": [
       "```xml\n",
       "<div class=\"ui grid\">\n",
       "  <div class=\"four wide column\">Hello World</div>\n",
       "  <div class=\"twelve wide column\">Hello World 2</div>\n",
       "</div>\n",
       "\n",
       "```"
      ],
      "text/plain": [
       "['div',\n",
       " (['div', ('Hello World',), {'class': 'four wide column'}],\n",
       "  ['div', ('Hello World 2',), {'class': 'twelve wide column'}]),\n",
       " {'class': 'ui grid'}]"
      ]
     },
     "execution_count": 26,
     "metadata": {},
     "output_type": "execute_result"
    }
   ],
   "source": [
    "FGrid(FColumn(\"Hello World\", width=4), FColumn(\"Hello World 2\", width=12))"
   ]
  },
  {
   "cell_type": "code",
   "execution_count": 27,
   "metadata": {},
   "outputs": [
    {
     "data": {
      "text/markdown": [
       "```xml\n",
       "<div class=\"ui grid\">\n",
       "  <div class=\"column\">Hello World</div>\n",
       "  <div class=\"column\">Hello World 2</div>\n",
       "</div>\n",
       "\n",
       "```"
      ],
      "text/plain": [
       "['div',\n",
       " (['div', ('Hello World',), {'class': 'column'}],\n",
       "  ['div', ('Hello World 2',), {'class': 'column'}]),\n",
       " {'class': 'ui grid'}]"
      ]
     },
     "execution_count": 27,
     "metadata": {},
     "output_type": "execute_result"
    }
   ],
   "source": [
    "FGrid(FColumn(\"Hello World\"), FColumn(\"Hello World 2\"))"
   ]
  },
  {
   "cell_type": "code",
   "execution_count": 28,
   "metadata": {},
   "outputs": [],
   "source": [
    "#| export\n",
    "@delegates(Form, keep=True)\n",
    "def FForm(*c, cls=\"ui form\", **kwargs)->XT:\n",
    "    \"A Fomantic UI Form\"\n",
    "    return Form(*c, cls=cls, **kwargs)"
   ]
  },
  {
   "cell_type": "code",
   "execution_count": 29,
   "metadata": {},
   "outputs": [
    {
     "data": {
      "text/markdown": [
       "```xml\n",
       "<form class=\"ui form\">\n",
       "  <button class=\"ui button\">Submit</button>\n",
       "</form>\n",
       "\n",
       "```"
      ],
      "text/plain": [
       "['form',\n",
       " (['button', ('Submit',), {'class': 'ui button'}],),\n",
       " {'class': 'ui form'}]"
      ]
     },
     "execution_count": 29,
     "metadata": {},
     "output_type": "execute_result"
    }
   ],
   "source": [
    "FForm(FButton(\"Submit\"))"
   ]
  },
  {
   "cell_type": "code",
   "execution_count": 30,
   "metadata": {},
   "outputs": [],
   "source": [
    "#| export\n",
    "@delegates(Div, keep=True)\n",
    "def FInput(*c, cls=\"ui input\", **kwargs)->XT:\n",
    "    \"A Semantic UI Input\"\n",
    "    return xt_hx('div', Input(*c, **kwargs), cls=cls)"
   ]
  },
  {
   "cell_type": "code",
   "execution_count": 31,
   "metadata": {},
   "outputs": [
    {
     "data": {
      "text/markdown": [
       "```xml\n",
       "<form class=\"ui form\">\n",
       "  <div class=\"ui input\">\n",
       "    <input placeholder=\"Enter your name\">\n",
       "  </div>\n",
       "  <button class=\"ui button\">Submit</button>\n",
       "</form>\n",
       "\n",
       "```"
      ],
      "text/plain": [
       "['form',\n",
       " (['div',\n",
       "   (['input', (), {'placeholder': 'Enter your name'}],),\n",
       "   {'class': 'ui input'}],\n",
       "  ['button', ('Submit',), {'class': 'ui button'}]),\n",
       " {'class': 'ui form'}]"
      ]
     },
     "execution_count": 31,
     "metadata": {},
     "output_type": "execute_result"
    }
   ],
   "source": [
    "FForm(FInput(placeholder=\"Enter your name\"), FButton(\"Submit\"))"
   ]
  },
  {
   "cell_type": "code",
   "execution_count": 33,
   "metadata": {},
   "outputs": [],
   "source": [
    "#| export\n",
    "@delegates(xt_hx, keep=True)\n",
    "def FDropdown(placeholder, options, cls=\"ui dropdown\", **kwargs)->XT:\n",
    "    \"A Semantic UI Dropdown\"\n",
    "    opts = [Option(text=o, value=o) for o in options]\n",
    "    return xt_hx('select', *opts, cls=cls, placeholder=placeholder, **kwargs)"
   ]
  },
  {
   "cell_type": "code",
   "execution_count": 34,
   "metadata": {},
   "outputs": [
    {
     "data": {
      "text/markdown": [
       "```xml\n",
       "<select placeholder=\"Select a value\" class=\"ui dropdown\">\n",
       "  <option text=\"Option 1\" value=\"Option 1\"></option>\n",
       "  <option text=\"Option 2\" value=\"Option 2\"></option>\n",
       "  <option text=\"Option 3\" value=\"Option 3\"></option>\n",
       "</select>\n",
       "\n",
       "```"
      ],
      "text/plain": [
       "['select',\n",
       " (['option', (), {'text': 'Option 1', 'value': 'Option 1'}],\n",
       "  ['option', (), {'text': 'Option 2', 'value': 'Option 2'}],\n",
       "  ['option', (), {'text': 'Option 3', 'value': 'Option 3'}]),\n",
       " {'placeholder': 'Select a value', 'class': 'ui dropdown'}]"
      ]
     },
     "execution_count": 34,
     "metadata": {},
     "output_type": "execute_result"
    }
   ],
   "source": [
    "FDropdown(\"Select a value\", [\"Option 1\", \"Option 2\", \"Option 3\"])"
   ]
  },
  {
   "cell_type": "markdown",
   "metadata": {},
   "source": [
    "# Export -"
   ]
  },
  {
   "cell_type": "code",
   "execution_count": 35,
   "metadata": {},
   "outputs": [],
   "source": [
    "#|hide\n",
    "import nbdev; nbdev.nbdev_export()"
   ]
  }
 ],
 "metadata": {
  "kernelspec": {
   "display_name": "python3",
   "language": "python",
   "name": "python3"
  },
  "language_info": {
   "codemirror_mode": {
    "name": "ipython",
    "version": 3
   },
   "file_extension": ".py",
   "mimetype": "text/x-python",
   "name": "python",
   "nbconvert_exporter": "python",
   "pygments_lexer": "ipython3",
   "version": "3.12.4"
  }
 },
 "nbformat": 4,
 "nbformat_minor": 2
}
