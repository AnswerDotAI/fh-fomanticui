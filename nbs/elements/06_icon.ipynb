{
 "cells": [
  {
   "cell_type": "markdown",
   "metadata": {},
   "source": [
    "# Icons"
   ]
  },
  {
   "cell_type": "markdown",
   "metadata": {},
   "source": [
    "Icon FastTags based on https://fomantic-ui.com/elements/icon.html"
   ]
  },
  {
   "cell_type": "code",
   "execution_count": null,
   "metadata": {},
   "outputs": [],
   "source": [
    "#| default_exp icon"
   ]
  },
  {
   "cell_type": "code",
   "execution_count": null,
   "metadata": {},
   "outputs": [],
   "source": [
    "# | export\n",
    "from dataclasses import dataclass, asdict\n",
    "from fastcore.utils import *\n",
    "from fastcore.xml import *\n",
    "from fastcore.xtras import *\n",
    "from fastcore.meta import use_kwargs, delegates\n",
    "from fasthtml.components import *"
   ]
  },
  {
   "cell_type": "code",
   "execution_count": null,
   "metadata": {},
   "outputs": [],
   "source": [
    "# | export\n",
    "@delegates(I, keep=True)\n",
    "def Icon(desc, **kwargs) -> FT:\n",
    "    \"A Fomantic UI Icon\"\n",
    "    return I(cls=f\"{desc} icon\", style=\"visibility: visible;\", **kwargs)"
   ]
  },
  {
   "cell_type": "code",
   "execution_count": null,
   "metadata": {},
   "outputs": [
    {
     "data": {
      "text/markdown": [
       "```xml\n",
       "<i class=\"wheelchair icon\" style=\"visibility: visible;\"></i>\n",
       "\n",
       "```"
      ],
      "text/plain": [
       "['i', (), {'class': 'wheelchair icon', 'style': 'visibility: visible;'}]"
      ]
     },
     "execution_count": null,
     "metadata": {},
     "output_type": "execute_result"
    }
   ],
   "source": [
    "Icon(\"wheelchair\")"
   ]
  },
  {
   "cell_type": "code",
   "execution_count": null,
   "metadata": {},
   "outputs": [
    {
     "data": {
      "text/html": [
       "<i class=\"wheelchair icon\" style=\"visibility: visible;\"></i>\n"
      ],
      "text/plain": [
       "<IPython.core.display.HTML object>"
      ]
     },
     "execution_count": null,
     "metadata": {},
     "output_type": "execute_result"
    }
   ],
   "source": [
    "show(Icon(\"wheelchair\"))"
   ]
  },
  {
   "cell_type": "code",
   "execution_count": null,
   "metadata": {},
   "outputs": [
    {
     "data": {
      "text/html": [
       "<i class=\"american sign language interpreting icon\" style=\"visibility: visible;\"></i>\n"
      ],
      "text/plain": [
       "<IPython.core.display.HTML object>"
      ]
     },
     "execution_count": null,
     "metadata": {},
     "output_type": "execute_result"
    }
   ],
   "source": [
    "show(Icon(\"american sign language interpreting\"))"
   ]
  },
  {
   "cell_type": "markdown",
   "metadata": {},
   "source": [
    "### Accessibility Icons\n",
    "\n",
    "Icons can represent accessibility standards."
   ]
  },
  {
   "cell_type": "code",
   "execution_count": null,
   "metadata": {},
   "outputs": [],
   "source": [
    "accessibility_descs = [\"accessible\", \"american sign language interpreting\", \"assistive listening systems\", \"audio description\", \"blind\", \"braille\", \"closed captioning\", \"closed captioning outline\", \"deaf\", \"low vision\", \"phone volume\", \"question circle\", \"question circle outline\", \"sign language\", \"tty\", \"universal access\", \"wheelchair\", ]"
   ]
  },
  {
   "cell_type": "code",
   "execution_count": null,
   "metadata": {},
   "outputs": [
    {
     "data": {
      "text/html": [
       "<i class=\"accessible icon\" style=\"visibility: visible;\"></i>\n",
       "\n",
       "<i class=\"american sign language interpreting icon\" style=\"visibility: visible;\"></i>\n",
       "\n",
       "<i class=\"assistive listening systems icon\" style=\"visibility: visible;\"></i>\n",
       "\n",
       "<i class=\"audio description icon\" style=\"visibility: visible;\"></i>\n",
       "\n",
       "<i class=\"blind icon\" style=\"visibility: visible;\"></i>\n",
       "\n",
       "<i class=\"braille icon\" style=\"visibility: visible;\"></i>\n",
       "\n",
       "<i class=\"closed captioning icon\" style=\"visibility: visible;\"></i>\n",
       "\n",
       "<i class=\"closed captioning outline icon\" style=\"visibility: visible;\"></i>\n",
       "\n",
       "<i class=\"deaf icon\" style=\"visibility: visible;\"></i>\n",
       "\n",
       "<i class=\"low vision icon\" style=\"visibility: visible;\"></i>\n",
       "\n",
       "<i class=\"phone volume icon\" style=\"visibility: visible;\"></i>\n",
       "\n",
       "<i class=\"question circle icon\" style=\"visibility: visible;\"></i>\n",
       "\n",
       "<i class=\"question circle outline icon\" style=\"visibility: visible;\"></i>\n",
       "\n",
       "<i class=\"sign language icon\" style=\"visibility: visible;\"></i>\n",
       "\n",
       "<i class=\"tty icon\" style=\"visibility: visible;\"></i>\n",
       "\n",
       "<i class=\"universal access icon\" style=\"visibility: visible;\"></i>\n",
       "\n",
       "<i class=\"wheelchair icon\" style=\"visibility: visible;\"></i>\n"
      ],
      "text/plain": [
       "<IPython.core.display.HTML object>"
      ]
     },
     "execution_count": null,
     "metadata": {},
     "output_type": "execute_result"
    }
   ],
   "source": [
    "show(*[Icon(desc) for desc in accessibility_descs])"
   ]
  },
  {
   "cell_type": "markdown",
   "metadata": {},
   "source": [
    "### Alert Icons\n",
    "\n",
    "Icons which can alert users to an action or information."
   ]
  },
  {
   "cell_type": "code",
   "execution_count": null,
   "metadata": {},
   "outputs": [],
   "source": [
    "alert_descs = [\"bell\", \"bell outline\", \"bell slash\", \"bell slash outline\", \"exclamation\", \"exclamation circle\", \"exclamation triangle\", \"radiation\", \"radiation alternate\", \"skull crossbones\", ]"
   ]
  },
  {
   "cell_type": "code",
   "execution_count": null,
   "metadata": {},
   "outputs": [
    {
     "data": {
      "text/html": [
       "<i class=\"bell icon\" style=\"visibility: visible;\"></i>\n",
       "\n",
       "<i class=\"bell outline icon\" style=\"visibility: visible;\"></i>\n",
       "\n",
       "<i class=\"bell slash icon\" style=\"visibility: visible;\"></i>\n",
       "\n",
       "<i class=\"bell slash outline icon\" style=\"visibility: visible;\"></i>\n",
       "\n",
       "<i class=\"exclamation icon\" style=\"visibility: visible;\"></i>\n",
       "\n",
       "<i class=\"exclamation circle icon\" style=\"visibility: visible;\"></i>\n",
       "\n",
       "<i class=\"exclamation triangle icon\" style=\"visibility: visible;\"></i>\n",
       "\n",
       "<i class=\"radiation icon\" style=\"visibility: visible;\"></i>\n",
       "\n",
       "<i class=\"radiation alternate icon\" style=\"visibility: visible;\"></i>\n",
       "\n",
       "<i class=\"skull crossbones icon\" style=\"visibility: visible;\"></i>\n"
      ],
      "text/plain": [
       "<IPython.core.display.HTML object>"
      ]
     },
     "execution_count": null,
     "metadata": {},
     "output_type": "execute_result"
    }
   ],
   "source": [
    "show(*[Icon(desc) for desc in alert_descs])"
   ]
  },
  {
   "cell_type": "markdown",
   "metadata": {},
   "source": [
    "### Animal Icons\n",
    "\n",
    "Icons can represent animals."
   ]
  },
  {
   "cell_type": "code",
   "execution_count": null,
   "metadata": {},
   "outputs": [],
   "source": [
    "animal_descs = [\"cat\", \"crow\", \"dog\", \"dove\", \"dragon\", \"feather\", \"feather alternate\", \"fish\", \"frog\", \"hippo\", \"horse\", \"horse head\", \"kiwi bird\", \"otter\", \"paw\", \"spider\", ]"
   ]
  },
  {
   "cell_type": "code",
   "execution_count": null,
   "metadata": {},
   "outputs": [
    {
     "data": {
      "text/html": [
       "<i class=\"cat icon\" style=\"visibility: visible;\"></i>\n",
       "\n",
       "<i class=\"crow icon\" style=\"visibility: visible;\"></i>\n",
       "\n",
       "<i class=\"dog icon\" style=\"visibility: visible;\"></i>\n",
       "\n",
       "<i class=\"dove icon\" style=\"visibility: visible;\"></i>\n",
       "\n",
       "<i class=\"dragon icon\" style=\"visibility: visible;\"></i>\n",
       "\n",
       "<i class=\"feather icon\" style=\"visibility: visible;\"></i>\n",
       "\n",
       "<i class=\"feather alternate icon\" style=\"visibility: visible;\"></i>\n",
       "\n",
       "<i class=\"fish icon\" style=\"visibility: visible;\"></i>\n",
       "\n",
       "<i class=\"frog icon\" style=\"visibility: visible;\"></i>\n",
       "\n",
       "<i class=\"hippo icon\" style=\"visibility: visible;\"></i>\n",
       "\n",
       "<i class=\"horse icon\" style=\"visibility: visible;\"></i>\n",
       "\n",
       "<i class=\"horse head icon\" style=\"visibility: visible;\"></i>\n",
       "\n",
       "<i class=\"kiwi bird icon\" style=\"visibility: visible;\"></i>\n",
       "\n",
       "<i class=\"otter icon\" style=\"visibility: visible;\"></i>\n",
       "\n",
       "<i class=\"paw icon\" style=\"visibility: visible;\"></i>\n",
       "\n",
       "<i class=\"spider icon\" style=\"visibility: visible;\"></i>\n"
      ],
      "text/plain": [
       "<IPython.core.display.HTML object>"
      ]
     },
     "execution_count": null,
     "metadata": {},
     "output_type": "execute_result"
    }
   ],
   "source": [
    "show(*[Icon(desc) for desc in animal_descs])"
   ]
  },
  {
   "cell_type": "markdown",
   "metadata": {},
   "source": [
    "### Arrow Icons\n",
    "\n",
    "Icons can indicate a direction."
   ]
  },
  {
   "cell_type": "code",
   "execution_count": null,
   "metadata": {},
   "outputs": [],
   "source": [
    "arrow_descs = [\"angle double down\", \"angle double left\", \"angle double right\", \"angle double up\", \"angle down\", \"angle left\", \"angle right\", \"angle up\", \"arrow alternate circle down\", \"arrow alternate circle down outline\", \"arrow alternate circle left\", \"arrow alternate circle left outline\", \"arrow alternate circle right\", \"arrow alternate circle right outline\", \"arrow alternate circle up\", \"arrow alternate circle up outline\", \"arrow circle down\", \"arrow circle left\", \"arrow circle right\", \"arrow circle up\", \"arrow down\", \"arrow left\", \"arrow right\", \"arrow up\", \"arrows alternate\", \"arrows alternate horizontal\", \"arrows alternate vertical\", \"caret down\", \"caret left\", \"caret right\", \"caret square down\", \"caret square down outline\", \"caret square left\", \"caret square left outline\", \"caret square right\", \"caret square right outline\", \"caret square up\", \"caret square up outline\", \"caret up\", \"cart arrow down\", \"chartline\", \"chevron circle down\", \"chevron circle left\", \"chevron circle right\", \"chevron circle up\", \"chevron down\", \"chevron left\", \"chevron right\", \"chevron up\", \"cloud download alternate\", \"cloud upload alternate\", \"compress alternate\", \"compress arrows alternate\", \"download\", \"exchange alternate\", \"expand alternate\", \"expand arrows alternate\", \"external alternate\", \"external link square alternate\", \"hand point down\", \"hand point down outline\", \"hand point left\", \"hand point left outline\", \"hand point right\", \"hand point right outline\", \"hand point up\", \"hand point up outline\", \"hand pointer\", \"hand pointer outline\", \"history\", \"level down alternate\", \"level up alternate\", \"location arrow\", \"long arrow alternate down\", \"long arrow alternate left\", \"long arrow alternate right\", \"long arrow alternate up\", \"mouse pointer\", \"play\", \"random\", \"recycle\", \"redo\", \"redo alternate\", \"reply\", \"reply all\", \"retweet\", \"share\", \"share square\", \"share square outline\", \"sign in alternate\", \"sign out alternate\", \"sort\", \"sort alphabet down\", \"sort alphabet down alternate\", \"sort alphabet up\", \"sort alphabet up alternate\", \"sort amount down\", \"sort amount down alternate\", \"sort amount up\", \"sort amount up alternate\", \"sort down\", \"sort numeric down\", \"sort numeric down alternate\", \"sort numeric up\", \"sort numeric up alternate\", \"sort up\", \"sync\", \"sync alternate\", \"text height\", \"text width\", \"undo\", \"undo alternate\", \"upload\", ]"
   ]
  },
  {
   "cell_type": "code",
   "execution_count": null,
   "metadata": {},
   "outputs": [
    {
     "data": {
      "text/html": [
       "<i class=\"angle double down icon\" style=\"visibility: visible;\"></i>\n",
       "\n",
       "<i class=\"angle double left icon\" style=\"visibility: visible;\"></i>\n",
       "\n",
       "<i class=\"angle double right icon\" style=\"visibility: visible;\"></i>\n",
       "\n",
       "<i class=\"angle double up icon\" style=\"visibility: visible;\"></i>\n",
       "\n",
       "<i class=\"angle down icon\" style=\"visibility: visible;\"></i>\n",
       "\n",
       "<i class=\"angle left icon\" style=\"visibility: visible;\"></i>\n",
       "\n",
       "<i class=\"angle right icon\" style=\"visibility: visible;\"></i>\n",
       "\n",
       "<i class=\"angle up icon\" style=\"visibility: visible;\"></i>\n",
       "\n",
       "<i class=\"arrow alternate circle down icon\" style=\"visibility: visible;\"></i>\n",
       "\n",
       "<i class=\"arrow alternate circle down outline icon\" style=\"visibility: visible;\"></i>\n",
       "\n",
       "<i class=\"arrow alternate circle left icon\" style=\"visibility: visible;\"></i>\n",
       "\n",
       "<i class=\"arrow alternate circle left outline icon\" style=\"visibility: visible;\"></i>\n",
       "\n",
       "<i class=\"arrow alternate circle right icon\" style=\"visibility: visible;\"></i>\n",
       "\n",
       "<i class=\"arrow alternate circle right outline icon\" style=\"visibility: visible;\"></i>\n",
       "\n",
       "<i class=\"arrow alternate circle up icon\" style=\"visibility: visible;\"></i>\n",
       "\n",
       "<i class=\"arrow alternate circle up outline icon\" style=\"visibility: visible;\"></i>\n",
       "\n",
       "<i class=\"arrow circle down icon\" style=\"visibility: visible;\"></i>\n",
       "\n",
       "<i class=\"arrow circle left icon\" style=\"visibility: visible;\"></i>\n",
       "\n",
       "<i class=\"arrow circle right icon\" style=\"visibility: visible;\"></i>\n",
       "\n",
       "<i class=\"arrow circle up icon\" style=\"visibility: visible;\"></i>\n",
       "\n",
       "<i class=\"arrow down icon\" style=\"visibility: visible;\"></i>\n",
       "\n",
       "<i class=\"arrow left icon\" style=\"visibility: visible;\"></i>\n",
       "\n",
       "<i class=\"arrow right icon\" style=\"visibility: visible;\"></i>\n",
       "\n",
       "<i class=\"arrow up icon\" style=\"visibility: visible;\"></i>\n",
       "\n",
       "<i class=\"arrows alternate icon\" style=\"visibility: visible;\"></i>\n",
       "\n",
       "<i class=\"arrows alternate horizontal icon\" style=\"visibility: visible;\"></i>\n",
       "\n",
       "<i class=\"arrows alternate vertical icon\" style=\"visibility: visible;\"></i>\n",
       "\n",
       "<i class=\"caret down icon\" style=\"visibility: visible;\"></i>\n",
       "\n",
       "<i class=\"caret left icon\" style=\"visibility: visible;\"></i>\n",
       "\n",
       "<i class=\"caret right icon\" style=\"visibility: visible;\"></i>\n",
       "\n",
       "<i class=\"caret square down icon\" style=\"visibility: visible;\"></i>\n",
       "\n",
       "<i class=\"caret square down outline icon\" style=\"visibility: visible;\"></i>\n",
       "\n",
       "<i class=\"caret square left icon\" style=\"visibility: visible;\"></i>\n",
       "\n",
       "<i class=\"caret square left outline icon\" style=\"visibility: visible;\"></i>\n",
       "\n",
       "<i class=\"caret square right icon\" style=\"visibility: visible;\"></i>\n",
       "\n",
       "<i class=\"caret square right outline icon\" style=\"visibility: visible;\"></i>\n",
       "\n",
       "<i class=\"caret square up icon\" style=\"visibility: visible;\"></i>\n",
       "\n",
       "<i class=\"caret square up outline icon\" style=\"visibility: visible;\"></i>\n",
       "\n",
       "<i class=\"caret up icon\" style=\"visibility: visible;\"></i>\n",
       "\n",
       "<i class=\"cart arrow down icon\" style=\"visibility: visible;\"></i>\n",
       "\n",
       "<i class=\"chartline icon\" style=\"visibility: visible;\"></i>\n",
       "\n",
       "<i class=\"chevron circle down icon\" style=\"visibility: visible;\"></i>\n",
       "\n",
       "<i class=\"chevron circle left icon\" style=\"visibility: visible;\"></i>\n",
       "\n",
       "<i class=\"chevron circle right icon\" style=\"visibility: visible;\"></i>\n",
       "\n",
       "<i class=\"chevron circle up icon\" style=\"visibility: visible;\"></i>\n",
       "\n",
       "<i class=\"chevron down icon\" style=\"visibility: visible;\"></i>\n",
       "\n",
       "<i class=\"chevron left icon\" style=\"visibility: visible;\"></i>\n",
       "\n",
       "<i class=\"chevron right icon\" style=\"visibility: visible;\"></i>\n",
       "\n",
       "<i class=\"chevron up icon\" style=\"visibility: visible;\"></i>\n",
       "\n",
       "<i class=\"cloud download alternate icon\" style=\"visibility: visible;\"></i>\n",
       "\n",
       "<i class=\"cloud upload alternate icon\" style=\"visibility: visible;\"></i>\n",
       "\n",
       "<i class=\"compress alternate icon\" style=\"visibility: visible;\"></i>\n",
       "\n",
       "<i class=\"compress arrows alternate icon\" style=\"visibility: visible;\"></i>\n",
       "\n",
       "<i class=\"download icon\" style=\"visibility: visible;\"></i>\n",
       "\n",
       "<i class=\"exchange alternate icon\" style=\"visibility: visible;\"></i>\n",
       "\n",
       "<i class=\"expand alternate icon\" style=\"visibility: visible;\"></i>\n",
       "\n",
       "<i class=\"expand arrows alternate icon\" style=\"visibility: visible;\"></i>\n",
       "\n",
       "<i class=\"external alternate icon\" style=\"visibility: visible;\"></i>\n",
       "\n",
       "<i class=\"external link square alternate icon\" style=\"visibility: visible;\"></i>\n",
       "\n",
       "<i class=\"hand point down icon\" style=\"visibility: visible;\"></i>\n",
       "\n",
       "<i class=\"hand point down outline icon\" style=\"visibility: visible;\"></i>\n",
       "\n",
       "<i class=\"hand point left icon\" style=\"visibility: visible;\"></i>\n",
       "\n",
       "<i class=\"hand point left outline icon\" style=\"visibility: visible;\"></i>\n",
       "\n",
       "<i class=\"hand point right icon\" style=\"visibility: visible;\"></i>\n",
       "\n",
       "<i class=\"hand point right outline icon\" style=\"visibility: visible;\"></i>\n",
       "\n",
       "<i class=\"hand point up icon\" style=\"visibility: visible;\"></i>\n",
       "\n",
       "<i class=\"hand point up outline icon\" style=\"visibility: visible;\"></i>\n",
       "\n",
       "<i class=\"hand pointer icon\" style=\"visibility: visible;\"></i>\n",
       "\n",
       "<i class=\"hand pointer outline icon\" style=\"visibility: visible;\"></i>\n",
       "\n",
       "<i class=\"history icon\" style=\"visibility: visible;\"></i>\n",
       "\n",
       "<i class=\"level down alternate icon\" style=\"visibility: visible;\"></i>\n",
       "\n",
       "<i class=\"level up alternate icon\" style=\"visibility: visible;\"></i>\n",
       "\n",
       "<i class=\"location arrow icon\" style=\"visibility: visible;\"></i>\n",
       "\n",
       "<i class=\"long arrow alternate down icon\" style=\"visibility: visible;\"></i>\n",
       "\n",
       "<i class=\"long arrow alternate left icon\" style=\"visibility: visible;\"></i>\n",
       "\n",
       "<i class=\"long arrow alternate right icon\" style=\"visibility: visible;\"></i>\n",
       "\n",
       "<i class=\"long arrow alternate up icon\" style=\"visibility: visible;\"></i>\n",
       "\n",
       "<i class=\"mouse pointer icon\" style=\"visibility: visible;\"></i>\n",
       "\n",
       "<i class=\"play icon\" style=\"visibility: visible;\"></i>\n",
       "\n",
       "<i class=\"random icon\" style=\"visibility: visible;\"></i>\n",
       "\n",
       "<i class=\"recycle icon\" style=\"visibility: visible;\"></i>\n",
       "\n",
       "<i class=\"redo icon\" style=\"visibility: visible;\"></i>\n",
       "\n",
       "<i class=\"redo alternate icon\" style=\"visibility: visible;\"></i>\n",
       "\n",
       "<i class=\"reply icon\" style=\"visibility: visible;\"></i>\n",
       "\n",
       "<i class=\"reply all icon\" style=\"visibility: visible;\"></i>\n",
       "\n",
       "<i class=\"retweet icon\" style=\"visibility: visible;\"></i>\n",
       "\n",
       "<i class=\"share icon\" style=\"visibility: visible;\"></i>\n",
       "\n",
       "<i class=\"share square icon\" style=\"visibility: visible;\"></i>\n",
       "\n",
       "<i class=\"share square outline icon\" style=\"visibility: visible;\"></i>\n",
       "\n",
       "<i class=\"sign in alternate icon\" style=\"visibility: visible;\"></i>\n",
       "\n",
       "<i class=\"sign out alternate icon\" style=\"visibility: visible;\"></i>\n",
       "\n",
       "<i class=\"sort icon\" style=\"visibility: visible;\"></i>\n",
       "\n",
       "<i class=\"sort alphabet down icon\" style=\"visibility: visible;\"></i>\n",
       "\n",
       "<i class=\"sort alphabet down alternate icon\" style=\"visibility: visible;\"></i>\n",
       "\n",
       "<i class=\"sort alphabet up icon\" style=\"visibility: visible;\"></i>\n",
       "\n",
       "<i class=\"sort alphabet up alternate icon\" style=\"visibility: visible;\"></i>\n",
       "\n",
       "<i class=\"sort amount down icon\" style=\"visibility: visible;\"></i>\n",
       "\n",
       "<i class=\"sort amount down alternate icon\" style=\"visibility: visible;\"></i>\n",
       "\n",
       "<i class=\"sort amount up icon\" style=\"visibility: visible;\"></i>\n",
       "\n",
       "<i class=\"sort amount up alternate icon\" style=\"visibility: visible;\"></i>\n",
       "\n",
       "<i class=\"sort down icon\" style=\"visibility: visible;\"></i>\n",
       "\n",
       "<i class=\"sort numeric down icon\" style=\"visibility: visible;\"></i>\n",
       "\n",
       "<i class=\"sort numeric down alternate icon\" style=\"visibility: visible;\"></i>\n",
       "\n",
       "<i class=\"sort numeric up icon\" style=\"visibility: visible;\"></i>\n",
       "\n",
       "<i class=\"sort numeric up alternate icon\" style=\"visibility: visible;\"></i>\n",
       "\n",
       "<i class=\"sort up icon\" style=\"visibility: visible;\"></i>\n",
       "\n",
       "<i class=\"sync icon\" style=\"visibility: visible;\"></i>\n",
       "\n",
       "<i class=\"sync alternate icon\" style=\"visibility: visible;\"></i>\n",
       "\n",
       "<i class=\"text height icon\" style=\"visibility: visible;\"></i>\n",
       "\n",
       "<i class=\"text width icon\" style=\"visibility: visible;\"></i>\n",
       "\n",
       "<i class=\"undo icon\" style=\"visibility: visible;\"></i>\n",
       "\n",
       "<i class=\"undo alternate icon\" style=\"visibility: visible;\"></i>\n",
       "\n",
       "<i class=\"upload icon\" style=\"visibility: visible;\"></i>\n"
      ],
      "text/plain": [
       "<IPython.core.display.HTML object>"
      ]
     },
     "execution_count": null,
     "metadata": {},
     "output_type": "execute_result"
    }
   ],
   "source": [
    "show(*[Icon(desc) for desc in arrow_descs])"
   ]
  },
  {
   "cell_type": "code",
   "execution_count": null,
   "metadata": {},
   "outputs": [],
   "source": []
  }
 ],
 "metadata": {
  "kernelspec": {
   "display_name": "python3",
   "language": "python",
   "name": "python3"
  }
 },
 "nbformat": 4,
 "nbformat_minor": 2
}
