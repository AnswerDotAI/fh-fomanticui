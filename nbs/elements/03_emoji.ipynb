{
 "cells": [
  {
   "cell_type": "markdown",
   "metadata": {},
   "source": [
    "# Emoji\n",
    "\n"
   ]
  },
  {
   "cell_type": "markdown",
   "metadata": {},
   "source": [
    "Emoji FastTags based on https://fomantic-ui.com/elements/emoji.html"
   ]
  },
  {
   "cell_type": "code",
   "execution_count": null,
   "metadata": {},
   "outputs": [],
   "source": [
    "#| default_exp icon"
   ]
  },
  {
   "cell_type": "code",
   "execution_count": null,
   "metadata": {},
   "outputs": [],
   "source": [
    "# | export\n",
    "from fastcore.utils import *\n",
    "from fastcore.xml import *\n",
    "from fastcore.xtras import *\n",
    "from fastcore.meta import delegates\n",
    "from fasthtml.components import *\n",
    "from enum import Enum"
   ]
  },
  {
   "cell_type": "code",
   "execution_count": null,
   "metadata": {},
   "outputs": [],
   "source": [
    "# | export\n",
    "@delegates(I, keep=True)\n",
    "def Emoji(desc, disabled=False, loading=False, **kwargs) -> FT:\n",
    "    \"A Fomantic UI Icon\"\n",
    "    kwargs.setdefault('cls', '')\n",
    "    if disabled is True and 'disabled' not in kwargs: kwargs['cls'] += \" disabled\"\n",
    "    if loading is True and 'loading' not in kwargs: kwargs['cls'] += \" loading\"\n",
    "    return Em(data_emoji=desc, style=\"visibility: visible;\", **kwargs)"
   ]
  },
  {
   "cell_type": "code",
   "execution_count": null,
   "metadata": {},
   "outputs": [
    {
     "data": {
      "text/markdown": [
       "```xml\n",
       "<em data-emoji=\"smile\" class=\"\" style=\"visibility: visible;\"></em>\n",
       "\n",
       "```"
      ],
      "text/plain": [
       "['em',\n",
       " (),\n",
       " {'data-emoji': 'smile', 'class': '', 'style': 'visibility: visible;'}]"
      ]
     },
     "execution_count": null,
     "metadata": {},
     "output_type": "execute_result"
    }
   ],
   "source": [
    "Emoji(\"smile\")"
   ]
  },
  {
   "cell_type": "code",
   "execution_count": null,
   "metadata": {},
   "outputs": [
    {
     "data": {
      "text/markdown": [
       "```xml\n",
       "<em data-emoji=\"smile\" class=\" disabled\" style=\"visibility: visible;\"></em>\n",
       "\n",
       "```"
      ],
      "text/plain": [
       "['em',\n",
       " (),\n",
       " {'data-emoji': 'smile',\n",
       "  'class': ' disabled',\n",
       "  'style': 'visibility: visible;'}]"
      ]
     },
     "execution_count": null,
     "metadata": {},
     "output_type": "execute_result"
    }
   ],
   "source": [
    "Emoji(\"smile\", disabled=True)"
   ]
  },
  {
   "cell_type": "code",
   "execution_count": null,
   "metadata": {},
   "outputs": [
    {
     "data": {
      "text/markdown": [
       "```xml\n",
       "<em data-emoji=\"smile\" class=\" disabled loading\" style=\"visibility: visible;\"></em>\n",
       "\n",
       "```"
      ],
      "text/plain": [
       "['em',\n",
       " (),\n",
       " {'data-emoji': 'smile',\n",
       "  'class': ' disabled loading',\n",
       "  'style': 'visibility: visible;'}]"
      ]
     },
     "execution_count": null,
     "metadata": {},
     "output_type": "execute_result"
    }
   ],
   "source": [
    "Emoji(\"smile\", disabled=True, loading=True)"
   ]
  }
 ],
 "metadata": {
  "kernelspec": {
   "display_name": "python3",
   "language": "python",
   "name": "python3"
  }
 },
 "nbformat": 4,
 "nbformat_minor": 2
}
