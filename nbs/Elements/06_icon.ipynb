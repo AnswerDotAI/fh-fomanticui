{
 "cells": [
  {
   "cell_type": "markdown",
   "metadata": {},
   "source": [
    "# Icons"
   ]
  },
  {
   "cell_type": "markdown",
   "metadata": {},
   "source": [
    "Icon FastTags based on https://fomantic-ui.com/elements/icon.html"
   ]
  },
  {
   "cell_type": "code",
   "execution_count": null,
   "metadata": {},
   "outputs": [],
   "source": [
    "#| default_exp button"
   ]
  },
  {
   "cell_type": "code",
   "execution_count": null,
   "metadata": {},
   "outputs": [],
   "source": [
    "# | export\n",
    "from dataclasses import dataclass, asdict\n",
    "from fastcore.utils import *\n",
    "from fastcore.xml import *\n",
    "from fastcore.xtras import *\n",
    "from fastcore.meta import use_kwargs, delegates\n",
    "from fasthtml.components import *"
   ]
  },
  {
   "cell_type": "code",
   "execution_count": null,
   "metadata": {},
   "outputs": [],
   "source": [
    "# | export\n",
    "@delegates(I, keep=True)\n",
    "def Icon(desc, **kwargs) -> FT:\n",
    "    \"A Fomantic UI Icon\"\n",
    "    return I(cls=f\"{desc} icon\", style=\"visibility: visible;\", **kwargs)"
   ]
  },
  {
   "cell_type": "code",
   "execution_count": null,
   "metadata": {},
   "outputs": [
    {
     "data": {
      "text/markdown": [
       "```xml\n",
       "<i class=\"wheelchair icon\" style=\"visibility: visible;\"></i>\n",
       "\n",
       "```"
      ],
      "text/plain": [
       "['i', (), {'class': 'wheelchair icon', 'style': 'visibility: visible;'}]"
      ]
     },
     "execution_count": null,
     "metadata": {},
     "output_type": "execute_result"
    }
   ],
   "source": [
    "Icon(\"wheelchair\")"
   ]
  },
  {
   "cell_type": "code",
   "execution_count": null,
   "metadata": {},
   "outputs": [
    {
     "data": {
      "text/html": [
       "<i class=\"wheelchair icon\" style=\"visibility: visible;\"></i>\n"
      ],
      "text/plain": [
       "<IPython.core.display.HTML object>"
      ]
     },
     "execution_count": null,
     "metadata": {},
     "output_type": "execute_result"
    }
   ],
   "source": [
    "show(Icon(\"wheelchair\"))"
   ]
  },
  {
   "cell_type": "code",
   "execution_count": null,
   "metadata": {},
   "outputs": [
    {
     "data": {
      "text/html": [
       "<i class=\"american sign language interpreting icon\" style=\"visibility: visible;\"></i>\n"
      ],
      "text/plain": [
       "<IPython.core.display.HTML object>"
      ]
     },
     "execution_count": null,
     "metadata": {},
     "output_type": "execute_result"
    }
   ],
   "source": [
    "show(Icon(\"american sign language interpreting\"))"
   ]
  }
 ],
 "metadata": {
  "kernelspec": {
   "display_name": "python3",
   "language": "python",
   "name": "python3"
  }
 },
 "nbformat": 4,
 "nbformat_minor": 2
}
