{
 "cells": [
  {
   "cell_type": "markdown",
   "metadata": {},
   "source": [
    "# Buttons"
   ]
  },
  {
   "cell_type": "markdown",
   "metadata": {},
   "source": [
    "Button FastTags based on https://fomantic-ui.com/elements/button.html"
   ]
  },
  {
   "cell_type": "code",
   "execution_count": null,
   "metadata": {},
   "outputs": [],
   "source": [
    "#| default_exp button"
   ]
  },
  {
   "cell_type": "code",
   "execution_count": null,
   "metadata": {},
   "outputs": [],
   "source": [
    "# | export\n",
    "from dataclasses import dataclass, asdict\n",
    "from fastcore.utils import *\n",
    "from fastcore.xml import *\n",
    "from fastcore.xtras import *\n",
    "from fastcore.meta import use_kwargs, delegates\n",
    "from fasthtml.components import *"
   ]
  },
  {
   "cell_type": "markdown",
   "metadata": {},
   "source": [
    "FastHTML comes with a simple `Button` FastTag, which comes from [fasthtml/nbs/api/01_components.ipynb](https://github.com/AnswerDotAI/fasthtml/blob/main/nbs/api/01_components.ipynb). We extend this FastTag to create all the Fomantic UI button types, variations, etc.\n",
    "\n",
    "## Types\n"
   ]
  },
  {
   "cell_type": "code",
   "execution_count": null,
   "metadata": {},
   "outputs": [],
   "source": [
    "# | export\n",
    "@delegates(Button, keep=True)\n",
    "def FButton(*c, cls=\"ui button\", **kwargs) -> FT:\n",
    "    \"A standard Fomantic UI Button, extending the existing Button FastTag\"\n",
    "    return Button(*c, cls=cls, **kwargs)"
   ]
  },
  {
   "cell_type": "code",
   "execution_count": null,
   "metadata": {},
   "outputs": [
    {
     "data": {
      "text/markdown": [
       "```xml\n",
       "<button class=\"ui button\">Follow</button>\n",
       "\n",
       "```"
      ],
      "text/plain": [
       "['button', ('Follow',), {'class': 'ui button'}]"
      ]
     },
     "execution_count": null,
     "metadata": {},
     "output_type": "execute_result"
    }
   ],
   "source": [
    "FButton(\"Follow\")"
   ]
  },
  {
   "cell_type": "code",
   "execution_count": null,
   "metadata": {},
   "outputs": [
    {
     "data": {
      "text/html": [
       "<button class=\"ui button\">Follow</button>\n"
      ],
      "text/plain": [
       "<IPython.core.display.HTML object>"
      ]
     },
     "execution_count": null,
     "metadata": {},
     "output_type": "execute_result"
    }
   ],
   "source": [
    "show(FButton(\"Follow\"))"
   ]
  },
  {
   "cell_type": "markdown",
   "metadata": {},
   "source": [
    "### Emphasis\n",
    "\n",
    "A button can be formatted to show different levels of emphasis"
   ]
  },
  {
   "cell_type": "code",
   "execution_count": null,
   "metadata": {},
   "outputs": [
    {
     "data": {
      "text/plain": [
       "(['button', ('Save',), {'class': 'ui primary button'}],\n",
       " ['button', ('Discard',), {'class': 'ui button'}])"
      ]
     },
     "execution_count": null,
     "metadata": {},
     "output_type": "execute_result"
    }
   ],
   "source": [
    "FButton(\"Save\", cls=\"ui primary button\"), FButton(\"Discard\")"
   ]
  },
  {
   "cell_type": "code",
   "execution_count": null,
   "metadata": {},
   "outputs": [
    {
     "data": {
      "text/html": [
       "<button class=\"ui primary button\">Save</button>\n",
       "\n",
       "<button class=\"ui button\">Discard</button>\n"
      ],
      "text/plain": [
       "<IPython.core.display.HTML object>"
      ]
     },
     "execution_count": null,
     "metadata": {},
     "output_type": "execute_result"
    }
   ],
   "source": [
    "show(FButton(\"Save\", cls=\"ui primary button\"), FButton(\"Discard\"))"
   ]
  },
  {
   "cell_type": "code",
   "execution_count": null,
   "metadata": {},
   "outputs": [
    {
     "data": {
      "text/html": [
       "<button class=\"ui secondary button\">OK</button>\n",
       "\n",
       "<button class=\"ui button\">Cancel</button>\n"
      ],
      "text/plain": [
       "<IPython.core.display.HTML object>"
      ]
     },
     "execution_count": null,
     "metadata": {},
     "output_type": "execute_result"
    }
   ],
   "source": [
    "show(FButton(\"OK\", cls=\"ui secondary button\"), FButton(\"Cancel\"))"
   ]
  },
  {
   "cell_type": "markdown",
   "metadata": {},
   "source": [
    "### Animated\n",
    "\n",
    "A button can animate to show hidden content"
   ]
  },
  {
   "cell_type": "code",
   "execution_count": null,
   "metadata": {},
   "outputs": [],
   "source": [
    "# | export\n",
    "@delegates(Button, keep=True)\n",
    "def FAnimatedButton(visible, hidden, tabindex=0, cls=\"ui animated button\", **kwargs) -> FT:\n",
    "    \"Animates to show hidden content\"\n",
    "    return Button(Div(visible, cls=\"visible content\"), Div(hidden, cls=\"hidden content\"), cls=cls, **kwargs)"
   ]
  },
  {
   "cell_type": "code",
   "execution_count": null,
   "metadata": {},
   "outputs": [
    {
     "data": {
      "text/markdown": [
       "```xml\n",
       "<button class=\"ui animated button\">\n",
       "  <div class=\"visible content\">Next</div>\n",
       "  <div class=\"hidden content\">Last</div>\n",
       "</button>\n",
       "\n",
       "```"
      ],
      "text/plain": [
       "['button',\n",
       " (['div', ('Next',), {'class': 'visible content'}],\n",
       "  ['div', ('Last',), {'class': 'hidden content'}]),\n",
       " {'class': 'ui animated button'}]"
      ]
     },
     "execution_count": null,
     "metadata": {},
     "output_type": "execute_result"
    }
   ],
   "source": [
    "FAnimatedButton(\"Next\", \"Last\")"
   ]
  },
  {
   "cell_type": "code",
   "execution_count": null,
   "metadata": {},
   "outputs": [
    {
     "data": {
      "text/html": [
       "<button class=\"ui animated button\">\n",
       "  <div class=\"visible content\">Next</div>\n",
       "  <div class=\"hidden content\">Last</div>\n",
       "</button>\n"
      ],
      "text/plain": [
       "<IPython.core.display.HTML object>"
      ]
     },
     "execution_count": null,
     "metadata": {},
     "output_type": "execute_result"
    }
   ],
   "source": [
    "show(FAnimatedButton(\"Next\", \"Last\"))"
   ]
  },
  {
   "cell_type": "code",
   "execution_count": null,
   "metadata": {},
   "outputs": [
    {
     "data": {
      "text/markdown": [
       "```xml\n",
       "<button class=\"ui animated button\">\n",
       "  <div class=\"visible content\">Next</div>\n",
       "  <div class=\"hidden content\">\n",
       "    <i class=\"right arrow icon\"></i>\n",
       "  </div>\n",
       "</button>\n",
       "\n",
       "```"
      ],
      "text/plain": [
       "['button',\n",
       " (['div', ('Next',), {'class': 'visible content'}],\n",
       "  ['div',\n",
       "   (['i', (), {'class': 'right arrow icon'}],),\n",
       "   {'class': 'hidden content'}]),\n",
       " {'class': 'ui animated button'}]"
      ]
     },
     "execution_count": null,
     "metadata": {},
     "output_type": "execute_result"
    }
   ],
   "source": [
    "FAnimatedButton(\"Next\", I(cls=\"right arrow icon\"))"
   ]
  },
  {
   "cell_type": "code",
   "execution_count": null,
   "metadata": {},
   "outputs": [
    {
     "data": {
      "text/html": [
       "<button class=\"ui animated button\">\n",
       "  <div class=\"visible content\">Next</div>\n",
       "  <div class=\"hidden content\">\n",
       "    <i class=\"right arrow icon\"></i>\n",
       "  </div>\n",
       "</button>\n"
      ],
      "text/plain": [
       "<IPython.core.display.HTML object>"
      ]
     },
     "execution_count": null,
     "metadata": {},
     "output_type": "execute_result"
    }
   ],
   "source": [
    "show(FAnimatedButton(\"Next\", I(cls=\"right arrow icon\")))"
   ]
  }
 ],
 "metadata": {
  "kernelspec": {
   "display_name": "python3",
   "language": "python",
   "name": "python3"
  }
 },
 "nbformat": 4,
 "nbformat_minor": 2
}
